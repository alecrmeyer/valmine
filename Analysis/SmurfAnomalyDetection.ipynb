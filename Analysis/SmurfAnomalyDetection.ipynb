{
 "cells": [
  {
   "cell_type": "code",
   "execution_count": 1,
   "metadata": {},
   "outputs": [],
   "source": [
    "import pandas as pd\n",
    "import numpy as np\n",
    "from sklearn.model_selection import train_test_split"
   ]
  },
  {
   "cell_type": "code",
   "execution_count": 2,
   "metadata": {},
   "outputs": [],
   "source": [
    "#Connect to database\n",
    "\n",
    "import mysql.connector\n",
    "import time\n",
    "import warnings\n",
    "warnings.simplefilter(action='ignore', category=UserWarning)\n",
    "\n",
    "mydb = mysql.connector.connect(\n",
    "  host=\"localhost\",\n",
    "  user=\"root\",\n",
    "  password=\"password\",\n",
    "  database=\"valorant_tracker\"\n",
    ")\n",
    "cursor = mydb.cursor() "
   ]
  },
  {
   "cell_type": "code",
   "execution_count": 3,
   "metadata": {},
   "outputs": [
    {
     "name": "stdout",
     "output_type": "stream",
     "text": [
      "Number of samples: 1486070\n"
     ]
    }
   ],
   "source": [
    "df = pd.read_sql(\"SELECT * FROM stats\", mydb)\n",
    "print(\"Number of samples: \" + str(df.shape[0]))"
   ]
  },
  {
   "cell_type": "code",
   "execution_count": 5,
   "metadata": {},
   "outputs": [],
   "source": [
    "df['user_id'] = df['match_player_id'].str[36:]\n"
   ]
  },
  {
   "cell_type": "code",
   "execution_count": 20,
   "metadata": {},
   "outputs": [
    {
     "name": "stdout",
     "output_type": "stream",
     "text": [
      "Index(['match_player_id', 'rounds', 'date', 'result', 'map', 'smurf', 'agent',\n",
      "       'kills', 'headshots', 'deaths', 'assists', 'damage', 'damage_received',\n",
      "       'econ_rating', 'plants', 'defuses', 'first_bloods', 'grenade_casts',\n",
      "       'ability_2_casts', 'ability_1_casts', 'ultimate_casts', 'placement',\n",
      "       'kdratio', 'headshot_percentage', 'first_deaths', 'last_deaths',\n",
      "       'current_rank', 'user_id'],\n",
      "      dtype='object')\n"
     ]
    }
   ],
   "source": [
    "print(df.columns)"
   ]
  },
  {
   "cell_type": "code",
   "execution_count": 18,
   "metadata": {},
   "outputs": [
    {
     "data": {
      "text/plain": [
       "(array([6.3840e+03, 0.0000e+00, 0.0000e+00, 0.0000e+00, 0.0000e+00,\n",
       "        4.0000e+00, 5.8000e+01, 2.8100e+02, 7.7900e+02, 1.3400e+03,\n",
       "        2.2290e+03, 2.8270e+03, 3.8570e+03, 6.1830e+03, 8.5780e+03,\n",
       "        1.0962e+04, 1.5936e+04, 1.8844e+04, 2.7443e+04, 3.2846e+04,\n",
       "        4.0091e+04, 4.7780e+04, 6.1467e+04, 5.5836e+04, 7.2480e+04,\n",
       "        7.5042e+04, 8.6394e+04, 8.4236e+04, 8.0339e+04, 9.5303e+04,\n",
       "        8.7111e+04, 7.7626e+04, 7.7628e+04, 7.0089e+04, 6.1443e+04,\n",
       "        5.4177e+04, 4.6323e+04, 3.8992e+04, 3.0983e+04, 2.6619e+04,\n",
       "        1.9483e+04, 1.6464e+04, 1.1815e+04, 8.0230e+03, 6.3480e+03,\n",
       "        6.3600e+03, 1.6810e+03, 1.9770e+03, 1.5910e+03, 1.0400e+03,\n",
       "        7.7800e+02, 4.2100e+02, 2.4500e+02, 4.3600e+02, 1.5000e+02,\n",
       "        9.4000e+01, 1.4000e+02, 7.0000e+01, 9.1000e+01, 5.4000e+01,\n",
       "        3.4000e+01, 1.2000e+01, 1.6000e+01, 6.0000e+00, 2.3100e+02]),\n",
       " array([ 0.        ,  0.15384615,  0.30769231,  0.46153846,  0.61538462,\n",
       "         0.76923077,  0.92307692,  1.07692308,  1.23076923,  1.38461538,\n",
       "         1.53846154,  1.69230769,  1.84615385,  2.        ,  2.15384615,\n",
       "         2.30769231,  2.46153846,  2.61538462,  2.76923077,  2.92307692,\n",
       "         3.07692308,  3.23076923,  3.38461538,  3.53846154,  3.69230769,\n",
       "         3.84615385,  4.        ,  4.15384615,  4.30769231,  4.46153846,\n",
       "         4.61538462,  4.76923077,  4.92307692,  5.07692308,  5.23076923,\n",
       "         5.38461538,  5.53846154,  5.69230769,  5.84615385,  6.        ,\n",
       "         6.15384615,  6.30769231,  6.46153846,  6.61538462,  6.76923077,\n",
       "         6.92307692,  7.07692308,  7.23076923,  7.38461538,  7.53846154,\n",
       "         7.69230769,  7.84615385,  8.        ,  8.15384615,  8.30769231,\n",
       "         8.46153846,  8.61538462,  8.76923077,  8.92307692,  9.07692308,\n",
       "         9.23076923,  9.38461538,  9.53846154,  9.69230769,  9.84615385,\n",
       "        10.        ]),\n",
       " <BarContainer object of 65 artists>)"
      ]
     },
     "execution_count": 18,
     "metadata": {},
     "output_type": "execute_result"
    },
    {
     "data": {
      "image/png": "[encoded data removed]",
      "text/plain": [
       "<Figure size 640x480 with 1 Axes>"
      ]
     },
     "metadata": {},
     "output_type": "display_data"
    }
   ],
   "source": [
    "import matplotlib.pyplot as plt\n",
    "\n",
    "plt.hist(df['headshot_percentage'] ** 0.5, bins = 65)"
   ]
  }
 ],
 "metadata": {
  "kernelspec": {
   "display_name": "base",
   "language": "python",
   "name": "python3"
  },
  "language_info": {
   "codemirror_mode": {
    "name": "ipython",
    "version": 3
   },
   "file_extension": ".py",
   "mimetype": "text/x-python",
   "name": "python",
   "nbconvert_exporter": "python",
   "pygments_lexer": "ipython3",
   "version": "3.9.13"
  },
  "orig_nbformat": 4,
  "vscode": {
   "interpreter": {
    "hash": "5b6ddfb2dcac28d85c50c41a252d540a7fa8764b66ffa4029a84ab1fab305572"
   }
  }
 },
 "nbformat": 4,
 "nbformat_minor": 2
}
