{
 "cells": [
  {
   "cell_type": "code",
   "execution_count": null,
   "metadata": {},
   "outputs": [],
   "source": [
    "import pandas as pd\n",
    "import numpy as np"
   ]
  },
  {
   "cell_type": "code",
   "execution_count": null,
   "metadata": {},
   "outputs": [],
   "source": [
    "#Connect to database\n",
    "\n",
    "import mysql.connector\n",
    "import time\n",
    "import warnings\n",
    "warnings.simplefilter(action='ignore', category=UserWarning)\n",
    "\n",
    "mydb = mysql.connector.connect(\n",
    "  host=\"localhost\",\n",
    "  user=\"root\",\n",
    "  password=\"password\",\n",
    "  database=\"valorant_tracker\"\n",
    ")\n",
    "cursor = mydb.cursor() "
   ]
  },
  {
   "cell_type": "code",
   "execution_count": null,
   "metadata": {},
   "outputs": [],
   "source": [
    "df = pd.read_sql(\"SELECT * FROM stats\", mydb)\n",
    "print(\"Number of samples: \" + str(df.shape[0]))"
   ]
  },
  {
   "cell_type": "code",
   "execution_count": null,
   "metadata": {},
   "outputs": [],
   "source": [
    "df['user_id'] = df['match_player_id'].str[36:]\n"
   ]
  },
  {
   "cell_type": "code",
   "execution_count": null,
   "metadata": {},
   "outputs": [],
   "source": [
    "print(df.columns)"
   ]
  },
  {
   "cell_type": "code",
   "execution_count": null,
   "metadata": {},
   "outputs": [],
   "source": [
    "data = df.drop([\"match_player_id\", \n",
    "\"user_id\", \n",
    "\"date\", \n",
    "\"rounds\", \n",
    "\"map\", \n",
    "\"result\", \n",
    "\"agent\",\n",
    "\"smurf\",\n",
    "\"current_rank\",], axis=1)\n",
    "\n",
    "#Should eventually take into account ability casts for each agent\n",
    "data = data.drop([\"grenade_casts\",\n",
    "\"ability_2_casts\",\n",
    "\"ability_1_casts\",\n",
    "\"ultimate_casts\"\n",
    "], axis=1)\n"
   ]
  },
  {
   "attachments": {},
   "cell_type": "markdown",
   "metadata": {},
   "source": [
    "Working with the raw data is difficult since it is not very gaussian. Will instead average all stats and work with a dataset of users."
   ]
  },
  {
   "cell_type": "code",
   "execution_count": null,
   "metadata": {},
   "outputs": [],
   "source": [
    "import matplotlib.pyplot as plt\n",
    "\n",
    "plt.scatter(df[\"kills\"], df[\"deaths\"])"
   ]
  },
  {
   "attachments": {},
   "cell_type": "markdown",
   "metadata": {},
   "source": [
    "No validation set or test set being used to find optimal epsilon (should consider doing that, however, 0.000001 seems to work fairly well). After checking the accounts below, some of them appear to have two different users. One plays extremely well and the other plays poorly."
   ]
  },
  {
   "cell_type": "code",
   "execution_count": null,
   "metadata": {},
   "outputs": [],
   "source": [
    "sub_data = df[[\"kills\", \"deaths\", \"user_id\"]]\n",
    "avg_data = sub_data.groupby(\"user_id\").mean()\n"
   ]
  },
  {
   "cell_type": "code",
   "execution_count": null,
   "metadata": {},
   "outputs": [],
   "source": [
    "from sklearn.ensemble import IsolationForest\n",
    "\n",
    "isof = IsolationForest(n_estimators=500, max_samples='auto', contamination=float(0.006))\n",
    "clf = isof.fit(avg_data)"
   ]
  },
  {
   "cell_type": "code",
   "execution_count": null,
   "metadata": {},
   "outputs": [],
   "source": [
    "anomaly = clf.predict(avg_data)"
   ]
  },
  {
   "cell_type": "code",
   "execution_count": null,
   "metadata": {},
   "outputs": [],
   "source": [
    "test_anomaly = avg_data\n",
    "test_anomaly[\"anomaly\"] = anomaly.tolist()\n"
   ]
  },
  {
   "cell_type": "code",
   "execution_count": null,
   "metadata": {},
   "outputs": [],
   "source": [
    "anomalies = test_anomaly[(test_anomaly[\"anomaly\"] == -1)]"
   ]
  },
  {
   "cell_type": "code",
   "execution_count": null,
   "metadata": {},
   "outputs": [],
   "source": [
    "anomalies.shape[0]"
   ]
  },
  {
   "cell_type": "code",
   "execution_count": null,
   "metadata": {},
   "outputs": [],
   "source": [
    "anom_true = anomalies[(anomalies[\"anomaly\"] == -1)]"
   ]
  },
  {
   "cell_type": "code",
   "execution_count": null,
   "metadata": {},
   "outputs": [],
   "source": [
    "plt.plot(avg_data[\"kills\"], avg_data[\"deaths\"], 'g.')\n",
    "\n",
    "plt.plot(anom_true[\"kills\"].to_numpy(), anom_true[\"deaths\"].to_numpy(), 'or',\n",
    "         markersize= 10,markerfacecolor='none', markeredgewidth=2)\n",
    "plt.xlabel(\"Kills\")\n",
    "plt.ylabel(\"Deaths\")\n",
    "plt.title(\"Kills Vs Deaths Outliers\")"
   ]
  },
  {
   "cell_type": "code",
   "execution_count": null,
   "metadata": {},
   "outputs": [],
   "source": [
    "anom_true"
   ]
  },
  {
   "cell_type": "code",
   "execution_count": null,
   "metadata": {},
   "outputs": [],
   "source": [
    "high_dim_data = df.drop([\"match_player_id\", \n",
    "\"date\", \n",
    "\"rounds\", \n",
    "\"map\", \n",
    "\"result\", \n",
    "\"agent\",\n",
    "\"smurf\",\n",
    "\"current_rank\",\n",
    "\"grenade_casts\",\n",
    "\"ability_2_casts\",\n",
    "\"ability_1_casts\",\n",
    "\"ultimate_casts\",], axis=1)\n"
   ]
  },
  {
   "cell_type": "code",
   "execution_count": null,
   "metadata": {},
   "outputs": [],
   "source": [
    "avg_high_dim_data = high_dim_data.groupby(\"user_id\").mean()\n",
    "avg_high_dim_data.head()"
   ]
  },
  {
   "cell_type": "code",
   "execution_count": null,
   "metadata": {},
   "outputs": [],
   "source": [
    "import seaborn as sns\n",
    "for col in avg_high_dim_data:\n",
    "    sns.histplot(avg_high_dim_data[col], color=\"grey\", label=\"100% Equities\", kde=True, stat=\"density\", linewidth=0)\n",
    "    plt.title(col)\n",
    "    plt.show()"
   ]
  },
  {
   "cell_type": "code",
   "execution_count": null,
   "metadata": {},
   "outputs": [],
   "source": [
    "from sklearn.ensemble import IsolationForest\n",
    "\n",
    "isof = IsolationForest(n_estimators=500, max_samples='auto', contamination=float(0.006))\n",
    "clf = isof.fit(avg_high_dim_data)"
   ]
  },
  {
   "cell_type": "code",
   "execution_count": null,
   "metadata": {},
   "outputs": [],
   "source": [
    "anomaly_high_dim = clf.predict(avg_high_dim_data)"
   ]
  },
  {
   "cell_type": "code",
   "execution_count": null,
   "metadata": {},
   "outputs": [],
   "source": [
    "test_anomaly_high_dim = avg_high_dim_data\n",
    "test_anomaly_high_dim[\"anomaly\"] = anomaly_high_dim.tolist()\n",
    "anomalies_high_dim = test_anomaly_high_dim[(test_anomaly_high_dim[\"anomaly\"] == -1)]\n",
    "print(\"Anomalies flagged: \" + str(anomalies_high_dim.shape[0]))\n",
    "anom_true_high_dim = anomalies_high_dim[(anomalies_high_dim[\"anomaly\"] == -1)]\n",
    "anom_true_high_dim"
   ]
  }
 ],
 "metadata": {
  "kernelspec": {
   "display_name": "base",
   "language": "python",
   "name": "python3"
  },
  "language_info": {
   "codemirror_mode": {
    "name": "ipython",
    "version": 3
   },
   "file_extension": ".py",
   "mimetype": "text/x-python",
   "name": "python",
   "nbconvert_exporter": "python",
   "pygments_lexer": "ipython3",
   "version": "3.9.13"
  },
  "orig_nbformat": 4,
  "vscode": {
   "interpreter": {
    "hash": "5b6ddfb2dcac28d85c50c41a252d540a7fa8764b66ffa4029a84ab1fab305572"
   }
  }
 },
 "nbformat": 4,
 "nbformat_minor": 2
}
